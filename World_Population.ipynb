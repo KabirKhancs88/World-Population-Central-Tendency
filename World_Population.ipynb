{
  "nbformat": 4,
  "nbformat_minor": 0,
  "metadata": {
    "colab": {
      "provenance": [],
      "toc_visible": true,
      "authorship_tag": "ABX9TyPYJ7fLZGoJjMLUnE5VofY5",
      "include_colab_link": true
    },
    "kernelspec": {
      "name": "python3",
      "display_name": "Python 3"
    },
    "language_info": {
      "name": "python"
    }
  },
  "cells": [
    {
      "cell_type": "markdown",
      "metadata": {
        "id": "view-in-github",
        "colab_type": "text"
      },
      "source": [
        "<a href=\"https://colab.research.google.com/github/KabirKhancs88/World-Population-Central-Tendency/blob/main/World_Population.ipynb\" target=\"_parent\"><img src=\"https://colab.research.google.com/assets/colab-badge.svg\" alt=\"Open In Colab\"/></a>"
      ]
    },
    {
      "cell_type": "code",
      "execution_count": 4,
      "metadata": {
        "id": "IPXbfrg_TxGy"
      },
      "outputs": [],
      "source": [
        "import pandas as pd\n",
        "url =\"/content/archive.zip\"\n",
        "da=pd.read_csv(url)"
      ]
    },
    {
      "cell_type": "markdown",
      "source": [
        "# New Section"
      ],
      "metadata": {
        "id": "Mo-xPM_0VnOX"
      }
    },
    {
      "cell_type": "code",
      "source": [
        "da.head()"
      ],
      "metadata": {
        "colab": {
          "base_uri": "https://localhost:8080/",
          "height": 206
        },
        "id": "ARfpzSwbWauH",
        "outputId": "8078ab2f-ad8a-4c65-901c-1b537f934faf"
      },
      "execution_count": 5,
      "outputs": [
        {
          "output_type": "execute_result",
          "data": {
            "text/plain": [
              "         Country  Population 2024  Population 2023 Area (km2)  Density (/km2)  \\\n",
              "0          India       1441719852       1428627663         3M           485.0   \n",
              "1          China       1425178782       1425671352       9.4M           151.0   \n",
              "2  United States        341814420        339996563       9.1M            37.0   \n",
              "3      Indonesia        279798049        277534122       1.9M           149.0   \n",
              "4       Pakistan        245209815        240485658     770.9K           318.0   \n",
              "\n",
              "   Growth Rate  World %  World Rank  \n",
              "0       0.0092   0.1801           1  \n",
              "1      -0.0003   0.1780           2  \n",
              "2       0.0053   0.0427           3  \n",
              "3       0.0082   0.0350           4  \n",
              "4       0.0196   0.0306           5  "
            ],
            "text/html": [
              "\n",
              "  <div id=\"df-b81ef325-18e9-46d7-8660-0d7d7e57d018\" class=\"colab-df-container\">\n",
              "    <div>\n",
              "<style scoped>\n",
              "    .dataframe tbody tr th:only-of-type {\n",
              "        vertical-align: middle;\n",
              "    }\n",
              "\n",
              "    .dataframe tbody tr th {\n",
              "        vertical-align: top;\n",
              "    }\n",
              "\n",
              "    .dataframe thead th {\n",
              "        text-align: right;\n",
              "    }\n",
              "</style>\n",
              "<table border=\"1\" class=\"dataframe\">\n",
              "  <thead>\n",
              "    <tr style=\"text-align: right;\">\n",
              "      <th></th>\n",
              "      <th>Country</th>\n",
              "      <th>Population 2024</th>\n",
              "      <th>Population 2023</th>\n",
              "      <th>Area (km2)</th>\n",
              "      <th>Density (/km2)</th>\n",
              "      <th>Growth Rate</th>\n",
              "      <th>World %</th>\n",
              "      <th>World Rank</th>\n",
              "    </tr>\n",
              "  </thead>\n",
              "  <tbody>\n",
              "    <tr>\n",
              "      <th>0</th>\n",
              "      <td>India</td>\n",
              "      <td>1441719852</td>\n",
              "      <td>1428627663</td>\n",
              "      <td>3M</td>\n",
              "      <td>485.0</td>\n",
              "      <td>0.0092</td>\n",
              "      <td>0.1801</td>\n",
              "      <td>1</td>\n",
              "    </tr>\n",
              "    <tr>\n",
              "      <th>1</th>\n",
              "      <td>China</td>\n",
              "      <td>1425178782</td>\n",
              "      <td>1425671352</td>\n",
              "      <td>9.4M</td>\n",
              "      <td>151.0</td>\n",
              "      <td>-0.0003</td>\n",
              "      <td>0.1780</td>\n",
              "      <td>2</td>\n",
              "    </tr>\n",
              "    <tr>\n",
              "      <th>2</th>\n",
              "      <td>United States</td>\n",
              "      <td>341814420</td>\n",
              "      <td>339996563</td>\n",
              "      <td>9.1M</td>\n",
              "      <td>37.0</td>\n",
              "      <td>0.0053</td>\n",
              "      <td>0.0427</td>\n",
              "      <td>3</td>\n",
              "    </tr>\n",
              "    <tr>\n",
              "      <th>3</th>\n",
              "      <td>Indonesia</td>\n",
              "      <td>279798049</td>\n",
              "      <td>277534122</td>\n",
              "      <td>1.9M</td>\n",
              "      <td>149.0</td>\n",
              "      <td>0.0082</td>\n",
              "      <td>0.0350</td>\n",
              "      <td>4</td>\n",
              "    </tr>\n",
              "    <tr>\n",
              "      <th>4</th>\n",
              "      <td>Pakistan</td>\n",
              "      <td>245209815</td>\n",
              "      <td>240485658</td>\n",
              "      <td>770.9K</td>\n",
              "      <td>318.0</td>\n",
              "      <td>0.0196</td>\n",
              "      <td>0.0306</td>\n",
              "      <td>5</td>\n",
              "    </tr>\n",
              "  </tbody>\n",
              "</table>\n",
              "</div>\n",
              "    <div class=\"colab-df-buttons\">\n",
              "\n",
              "  <div class=\"colab-df-container\">\n",
              "    <button class=\"colab-df-convert\" onclick=\"convertToInteractive('df-b81ef325-18e9-46d7-8660-0d7d7e57d018')\"\n",
              "            title=\"Convert this dataframe to an interactive table.\"\n",
              "            style=\"display:none;\">\n",
              "\n",
              "  <svg xmlns=\"http://www.w3.org/2000/svg\" height=\"24px\" viewBox=\"0 -960 960 960\">\n",
              "    <path d=\"M120-120v-720h720v720H120Zm60-500h600v-160H180v160Zm220 220h160v-160H400v160Zm0 220h160v-160H400v160ZM180-400h160v-160H180v160Zm440 0h160v-160H620v160ZM180-180h160v-160H180v160Zm440 0h160v-160H620v160Z\"/>\n",
              "  </svg>\n",
              "    </button>\n",
              "\n",
              "  <style>\n",
              "    .colab-df-container {\n",
              "      display:flex;\n",
              "      gap: 12px;\n",
              "    }\n",
              "\n",
              "    .colab-df-convert {\n",
              "      background-color: #E8F0FE;\n",
              "      border: none;\n",
              "      border-radius: 50%;\n",
              "      cursor: pointer;\n",
              "      display: none;\n",
              "      fill: #1967D2;\n",
              "      height: 32px;\n",
              "      padding: 0 0 0 0;\n",
              "      width: 32px;\n",
              "    }\n",
              "\n",
              "    .colab-df-convert:hover {\n",
              "      background-color: #E2EBFA;\n",
              "      box-shadow: 0px 1px 2px rgba(60, 64, 67, 0.3), 0px 1px 3px 1px rgba(60, 64, 67, 0.15);\n",
              "      fill: #174EA6;\n",
              "    }\n",
              "\n",
              "    .colab-df-buttons div {\n",
              "      margin-bottom: 4px;\n",
              "    }\n",
              "\n",
              "    [theme=dark] .colab-df-convert {\n",
              "      background-color: #3B4455;\n",
              "      fill: #D2E3FC;\n",
              "    }\n",
              "\n",
              "    [theme=dark] .colab-df-convert:hover {\n",
              "      background-color: #434B5C;\n",
              "      box-shadow: 0px 1px 3px 1px rgba(0, 0, 0, 0.15);\n",
              "      filter: drop-shadow(0px 1px 2px rgba(0, 0, 0, 0.3));\n",
              "      fill: #FFFFFF;\n",
              "    }\n",
              "  </style>\n",
              "\n",
              "    <script>\n",
              "      const buttonEl =\n",
              "        document.querySelector('#df-b81ef325-18e9-46d7-8660-0d7d7e57d018 button.colab-df-convert');\n",
              "      buttonEl.style.display =\n",
              "        google.colab.kernel.accessAllowed ? 'block' : 'none';\n",
              "\n",
              "      async function convertToInteractive(key) {\n",
              "        const element = document.querySelector('#df-b81ef325-18e9-46d7-8660-0d7d7e57d018');\n",
              "        const dataTable =\n",
              "          await google.colab.kernel.invokeFunction('convertToInteractive',\n",
              "                                                    [key], {});\n",
              "        if (!dataTable) return;\n",
              "\n",
              "        const docLinkHtml = 'Like what you see? Visit the ' +\n",
              "          '<a target=\"_blank\" href=https://colab.research.google.com/notebooks/data_table.ipynb>data table notebook</a>'\n",
              "          + ' to learn more about interactive tables.';\n",
              "        element.innerHTML = '';\n",
              "        dataTable['output_type'] = 'display_data';\n",
              "        await google.colab.output.renderOutput(dataTable, element);\n",
              "        const docLink = document.createElement('div');\n",
              "        docLink.innerHTML = docLinkHtml;\n",
              "        element.appendChild(docLink);\n",
              "      }\n",
              "    </script>\n",
              "  </div>\n",
              "\n",
              "\n",
              "<div id=\"df-e2529482-5cd7-496d-944a-afea39e5d165\">\n",
              "  <button class=\"colab-df-quickchart\" onclick=\"quickchart('df-e2529482-5cd7-496d-944a-afea39e5d165')\"\n",
              "            title=\"Suggest charts\"\n",
              "            style=\"display:none;\">\n",
              "\n",
              "<svg xmlns=\"http://www.w3.org/2000/svg\" height=\"24px\"viewBox=\"0 0 24 24\"\n",
              "     width=\"24px\">\n",
              "    <g>\n",
              "        <path d=\"M19 3H5c-1.1 0-2 .9-2 2v14c0 1.1.9 2 2 2h14c1.1 0 2-.9 2-2V5c0-1.1-.9-2-2-2zM9 17H7v-7h2v7zm4 0h-2V7h2v10zm4 0h-2v-4h2v4z\"/>\n",
              "    </g>\n",
              "</svg>\n",
              "  </button>\n",
              "\n",
              "<style>\n",
              "  .colab-df-quickchart {\n",
              "      --bg-color: #E8F0FE;\n",
              "      --fill-color: #1967D2;\n",
              "      --hover-bg-color: #E2EBFA;\n",
              "      --hover-fill-color: #174EA6;\n",
              "      --disabled-fill-color: #AAA;\n",
              "      --disabled-bg-color: #DDD;\n",
              "  }\n",
              "\n",
              "  [theme=dark] .colab-df-quickchart {\n",
              "      --bg-color: #3B4455;\n",
              "      --fill-color: #D2E3FC;\n",
              "      --hover-bg-color: #434B5C;\n",
              "      --hover-fill-color: #FFFFFF;\n",
              "      --disabled-bg-color: #3B4455;\n",
              "      --disabled-fill-color: #666;\n",
              "  }\n",
              "\n",
              "  .colab-df-quickchart {\n",
              "    background-color: var(--bg-color);\n",
              "    border: none;\n",
              "    border-radius: 50%;\n",
              "    cursor: pointer;\n",
              "    display: none;\n",
              "    fill: var(--fill-color);\n",
              "    height: 32px;\n",
              "    padding: 0;\n",
              "    width: 32px;\n",
              "  }\n",
              "\n",
              "  .colab-df-quickchart:hover {\n",
              "    background-color: var(--hover-bg-color);\n",
              "    box-shadow: 0 1px 2px rgba(60, 64, 67, 0.3), 0 1px 3px 1px rgba(60, 64, 67, 0.15);\n",
              "    fill: var(--button-hover-fill-color);\n",
              "  }\n",
              "\n",
              "  .colab-df-quickchart-complete:disabled,\n",
              "  .colab-df-quickchart-complete:disabled:hover {\n",
              "    background-color: var(--disabled-bg-color);\n",
              "    fill: var(--disabled-fill-color);\n",
              "    box-shadow: none;\n",
              "  }\n",
              "\n",
              "  .colab-df-spinner {\n",
              "    border: 2px solid var(--fill-color);\n",
              "    border-color: transparent;\n",
              "    border-bottom-color: var(--fill-color);\n",
              "    animation:\n",
              "      spin 1s steps(1) infinite;\n",
              "  }\n",
              "\n",
              "  @keyframes spin {\n",
              "    0% {\n",
              "      border-color: transparent;\n",
              "      border-bottom-color: var(--fill-color);\n",
              "      border-left-color: var(--fill-color);\n",
              "    }\n",
              "    20% {\n",
              "      border-color: transparent;\n",
              "      border-left-color: var(--fill-color);\n",
              "      border-top-color: var(--fill-color);\n",
              "    }\n",
              "    30% {\n",
              "      border-color: transparent;\n",
              "      border-left-color: var(--fill-color);\n",
              "      border-top-color: var(--fill-color);\n",
              "      border-right-color: var(--fill-color);\n",
              "    }\n",
              "    40% {\n",
              "      border-color: transparent;\n",
              "      border-right-color: var(--fill-color);\n",
              "      border-top-color: var(--fill-color);\n",
              "    }\n",
              "    60% {\n",
              "      border-color: transparent;\n",
              "      border-right-color: var(--fill-color);\n",
              "    }\n",
              "    80% {\n",
              "      border-color: transparent;\n",
              "      border-right-color: var(--fill-color);\n",
              "      border-bottom-color: var(--fill-color);\n",
              "    }\n",
              "    90% {\n",
              "      border-color: transparent;\n",
              "      border-bottom-color: var(--fill-color);\n",
              "    }\n",
              "  }\n",
              "</style>\n",
              "\n",
              "  <script>\n",
              "    async function quickchart(key) {\n",
              "      const quickchartButtonEl =\n",
              "        document.querySelector('#' + key + ' button');\n",
              "      quickchartButtonEl.disabled = true;  // To prevent multiple clicks.\n",
              "      quickchartButtonEl.classList.add('colab-df-spinner');\n",
              "      try {\n",
              "        const charts = await google.colab.kernel.invokeFunction(\n",
              "            'suggestCharts', [key], {});\n",
              "      } catch (error) {\n",
              "        console.error('Error during call to suggestCharts:', error);\n",
              "      }\n",
              "      quickchartButtonEl.classList.remove('colab-df-spinner');\n",
              "      quickchartButtonEl.classList.add('colab-df-quickchart-complete');\n",
              "    }\n",
              "    (() => {\n",
              "      let quickchartButtonEl =\n",
              "        document.querySelector('#df-e2529482-5cd7-496d-944a-afea39e5d165 button');\n",
              "      quickchartButtonEl.style.display =\n",
              "        google.colab.kernel.accessAllowed ? 'block' : 'none';\n",
              "    })();\n",
              "  </script>\n",
              "</div>\n",
              "\n",
              "    </div>\n",
              "  </div>\n"
            ],
            "application/vnd.google.colaboratory.intrinsic+json": {
              "type": "dataframe",
              "variable_name": "da",
              "summary": "{\n  \"name\": \"da\",\n  \"rows\": 234,\n  \"fields\": [\n    {\n      \"column\": \"Country\",\n      \"properties\": {\n        \"dtype\": \"string\",\n        \"num_unique_values\": 234,\n        \"samples\": [\n          \"Guatemala\",\n          \"Guernsey\",\n          \"Mayotte\"\n        ],\n        \"semantic_type\": \"\",\n        \"description\": \"\"\n      }\n    },\n    {\n      \"column\": \"Population 2024\",\n      \"properties\": {\n        \"dtype\": \"number\",\n        \"std\": 138075008,\n        \"min\": 526,\n        \"max\": 1441719852,\n        \"num_unique_values\": 234,\n        \"samples\": [\n          18358430,\n          63788,\n          345996\n        ],\n        \"semantic_type\": \"\",\n        \"description\": \"\"\n      }\n    },\n    {\n      \"column\": \"Population 2023\",\n      \"properties\": {\n        \"dtype\": \"number\",\n        \"std\": 137386405,\n        \"min\": 518,\n        \"max\": 1428627663,\n        \"num_unique_values\": 234,\n        \"samples\": [\n          18092026,\n          63544,\n          335995\n        ],\n        \"semantic_type\": \"\",\n        \"description\": \"\"\n      }\n    },\n    {\n      \"column\": \"Area (km2)\",\n      \"properties\": {\n        \"dtype\": \"string\",\n        \"num_unique_values\": 215,\n        \"samples\": [\n          \"2\",\n          \"261\",\n          \"25.2K\"\n        ],\n        \"semantic_type\": \"\",\n        \"description\": \"\"\n      }\n    },\n    {\n      \"column\": \"Density (/km2)\",\n      \"properties\": {\n        \"dtype\": \"number\",\n        \"std\": 1990.1632743243576,\n        \"min\": 0.14,\n        \"max\": 21674.0,\n        \"num_unique_values\": 173,\n        \"samples\": [\n          647.0,\n          106.0,\n          61.0\n        ],\n        \"semantic_type\": \"\",\n        \"description\": \"\"\n      }\n    },\n    {\n      \"column\": \"Growth Rate\",\n      \"properties\": {\n        \"dtype\": \"number\",\n        \"std\": 0.011371338482007375,\n        \"min\": -0.0309,\n        \"max\": 0.0483,\n        \"num_unique_values\": 176,\n        \"samples\": [\n          0.0012,\n          0.0106,\n          -0.0006\n        ],\n        \"semantic_type\": \"\",\n        \"description\": \"\"\n      }\n    },\n    {\n      \"column\": \"World %\",\n      \"properties\": {\n        \"dtype\": \"number\",\n        \"std\": 0.0174591438992855,\n        \"min\": 0.0,\n        \"max\": 0.1801,\n        \"num_unique_values\": 69,\n        \"samples\": [\n          0.0076,\n          0.1801,\n          0.0023\n        ],\n        \"semantic_type\": \"\",\n        \"description\": \"\"\n      }\n    },\n    {\n      \"column\": \"World Rank\",\n      \"properties\": {\n        \"dtype\": \"number\",\n        \"std\": 67,\n        \"min\": 1,\n        \"max\": 234,\n        \"num_unique_values\": 234,\n        \"samples\": [\n          70,\n          207,\n          181\n        ],\n        \"semantic_type\": \"\",\n        \"description\": \"\"\n      }\n    }\n  ]\n}"
            }
          },
          "metadata": {},
          "execution_count": 5
        }
      ]
    },
    {
      "cell_type": "code",
      "source": [
        "da.columns"
      ],
      "metadata": {
        "colab": {
          "base_uri": "https://localhost:8080/"
        },
        "id": "AXqvm574XaTH",
        "outputId": "f311b405-e64b-489f-dee4-7a3ffe5be1fe"
      },
      "execution_count": 6,
      "outputs": [
        {
          "output_type": "execute_result",
          "data": {
            "text/plain": [
              "Index(['Country', 'Population 2024', 'Population 2023', 'Area (km2)',\n",
              "       'Density (/km2)', 'Growth Rate', 'World %', 'World Rank'],\n",
              "      dtype='object')"
            ]
          },
          "metadata": {},
          "execution_count": 6
        }
      ]
    },
    {
      "cell_type": "code",
      "source": [
        "da['Population 2024']"
      ],
      "metadata": {
        "colab": {
          "base_uri": "https://localhost:8080/"
        },
        "id": "vealyXqTW_8n",
        "outputId": "67b12d94-1b7f-4723-ac6c-f33579cf605a"
      },
      "execution_count": 7,
      "outputs": [
        {
          "output_type": "execute_result",
          "data": {
            "text/plain": [
              "0      1441719852\n",
              "1      1425178782\n",
              "2       341814420\n",
              "3       279798049\n",
              "4       245209815\n",
              "          ...    \n",
              "229          4372\n",
              "230          3803\n",
              "231          1935\n",
              "232          1915\n",
              "233           526\n",
              "Name: Population 2024, Length: 234, dtype: int64"
            ]
          },
          "metadata": {},
          "execution_count": 7
        }
      ]
    },
    {
      "cell_type": "code",
      "source": [
        "import matplotlib\n",
        "import matplotlib.pyplot as plt\n",
        "%matplotlib inline\n",
        "\n",
        "plt.plot()\n",
        "plt.show()\n",
        "\n",
        "plt.figure(figsize=(10, 5))\n",
        "\n",
        "# add a line renderer with legend and line thickness\n",
        "plt.plot()\n",
        "\n",
        "# also need to make the figure readable -- very important from stats perspective!\n",
        "plt.title(\"World Population by country 2024\")\n",
        "plt.xlabel(\"x vals (s)\")\n",
        "plt.ylabel(\"y vals (m)\")\n",
        "plt.grid()\n",
        "\n",
        "plt.show()\n"
      ],
      "metadata": {
        "colab": {
          "base_uri": "https://localhost:8080/",
          "height": 900
        },
        "id": "PrHjUvI_Zfmv",
        "outputId": "6e012901-72e9-4f89-f5bd-160e85cfe9c2"
      },
      "execution_count": 10,
      "outputs": [
        {
          "output_type": "display_data",
          "data": {
            "text/plain": [
              "<Figure size 640x480 with 1 Axes>"
            ],
            "image/png": "[encoded data removed]"
          },
          "metadata": {}
        },
        {
          "output_type": "display_data",
          "data": {
            "text/plain": [
              "<Figure size 1000x500 with 1 Axes>"
            ],
            "image/png": "[encoded data removed]"
          },
          "metadata": {}
        }
      ]
    },
    {
      "cell_type": "code",
      "source": [
        "da['Population 2024'].size"
      ],
      "metadata": {
        "colab": {
          "base_uri": "https://localhost:8080/"
        },
        "id": "srOxRIDhpzOJ",
        "outputId": "8a30adbe-1f03-46ab-f82b-cd689d6c7b5d"
      },
      "execution_count": 11,
      "outputs": [
        {
          "output_type": "execute_result",
          "data": {
            "text/plain": [
              "234"
            ]
          },
          "metadata": {},
          "execution_count": 11
        }
      ]
    },
    {
      "cell_type": "code",
      "source": [
        "import seaborn as sns\n",
        "plt.figure(figsize=(10, 5))\n",
        "sns.histplot(da['World %'], bins=50, kde=True)\n",
        "plt.title('World % Distribution')\n",
        "plt.xlabel('World %')\n",
        "plt.ylabel('Frequency')\n",
        "plt.show()"
      ],
      "metadata": {
        "colab": {
          "base_uri": "https://localhost:8080/",
          "height": 487
        },
        "id": "W6cWU0T8znVr",
        "outputId": "132335bd-591c-4917-d388-916276be2af9"
      },
      "execution_count": 42,
      "outputs": [
        {
          "output_type": "display_data",
          "data": {
            "text/plain": [
              "<Figure size 1000x500 with 1 Axes>"
            ],
            "image/png": "[encoded data removed]"
          },
          "metadata": {}
        }
      ]
    },
    {
      "cell_type": "code",
      "source": [
        "## Plotting Weights\n",
        "# create a figure\n",
        "plt.figure(figsize=(10, 5))\n",
        "\n",
        "# add a line renderer with legend and line thickness\n",
        "x =  range(da['Population 2024'].size)\n",
        "y =  da['Population 2024']\n",
        "\n",
        "plt.scatter(x, y, marker='x', s=0.5)\n",
        "\n",
        "# also need to make the figure readable -- very important from stats perspective!\n",
        "plt.title(\"World % Distribution\")\n",
        "plt.xlabel(\"World\")\n",
        "plt.ylabel(\"Frequency \")\n",
        "\n",
        "plt.show()"
      ],
      "metadata": {
        "colab": {
          "base_uri": "https://localhost:8080/",
          "height": 487
        },
        "id": "CsJi574uqFsn",
        "outputId": "891f0ab7-ee39-4e84-92a9-3ce2bfc4be9f"
      },
      "execution_count": 43,
      "outputs": [
        {
          "output_type": "display_data",
          "data": {
            "text/plain": [
              "<Figure size 1000x500 with 1 Axes>"
            ],
            "image/png": "[encoded data removed]"
          },
          "metadata": {}
        }
      ]
    },
    {
      "cell_type": "code",
      "source": [
        "sum(y)"
      ],
      "metadata": {
        "colab": {
          "base_uri": "https://localhost:8080/"
        },
        "id": "SYgVdvsYqb_B",
        "outputId": "cb1eef89-939a-412d-bc17-8c136e8dd2eb"
      },
      "execution_count": 45,
      "outputs": [
        {
          "output_type": "execute_result",
          "data": {
            "text/plain": [
              "2203023339"
            ]
          },
          "metadata": {},
          "execution_count": 45
        }
      ]
    },
    {
      "cell_type": "code",
      "source": [
        "y = y.dropna()    # just remove the values with NaN"
      ],
      "metadata": {
        "id": "fTzRvrXxqn23"
      },
      "execution_count": 46,
      "outputs": []
    },
    {
      "cell_type": "code",
      "source": [
        "sum(y) / len(y)"
      ],
      "metadata": {
        "colab": {
          "base_uri": "https://localhost:8080/"
        },
        "id": "mlfjP_NUqtOD",
        "outputId": "1f796976-4526-48fc-a7e6-2032a54c0690"
      },
      "execution_count": 47,
      "outputs": [
        {
          "output_type": "execute_result",
          "data": {
            "text/plain": [
              "10490587.32857143"
            ]
          },
          "metadata": {},
          "execution_count": 47
        }
      ]
    },
    {
      "cell_type": "code",
      "source": [
        "#Checking the central tendency\n",
        "mean=sum(y)/len(y)\n",
        "print(mean)"
      ],
      "metadata": {
        "colab": {
          "base_uri": "https://localhost:8080/"
        },
        "id": "7CWqMsFlrKCJ",
        "outputId": "b9929a45-51dd-410f-ffcd-efa30e3e0c28"
      },
      "execution_count": 48,
      "outputs": [
        {
          "output_type": "stream",
          "name": "stdout",
          "text": [
            "10490587.32857143\n"
          ]
        }
      ]
    },
    {
      "cell_type": "code",
      "source": [
        "#Visualizing the mean\n",
        "plt.scatter(x,y,s=0.5)\n",
        "plt.title('Visulizing the  population Values')\n",
        "plt.xlabel('World')\n",
        "plt.ylabel('Frequency')\n",
        "plt.axhline(mean,color='red',linestyle='--',label='mean')\n",
        "plt.legend()\n",
        "plt.show()"
      ],
      "metadata": {
        "colab": {
          "base_uri": "https://localhost:8080/",
          "height": 472
        },
        "id": "e905YAi6riWJ",
        "outputId": "c6cbf1f5-04ec-40b7-e9d5-7ef03f80cb8b"
      },
      "execution_count": 49,
      "outputs": [
        {
          "output_type": "display_data",
          "data": {
            "text/plain": [
              "<Figure size 640x480 with 1 Axes>"
            ],
            "image/png": "[encoded data removed]"
          },
          "metadata": {}
        }
      ]
    },
    {
      "cell_type": "code",
      "source": [
        "import numpy as np\n",
        "\n",
        "var= np.var(da['Population 2024'])\n",
        "print(var)"
      ],
      "metadata": {
        "colab": {
          "base_uri": "https://localhost:8080/"
        },
        "id": "GlETN9fSr3MB",
        "outputId": "9bf3780e-a707-470d-ea69-4f328c45e533"
      },
      "execution_count": 50,
      "outputs": [
        {
          "output_type": "stream",
          "name": "stdout",
          "text": [
            "202581780255106.6\n"
          ]
        }
      ]
    },
    {
      "cell_type": "code",
      "source": [
        "#Finding standard deviation\n",
        "std_dev= np.sqrt(var)\n",
        "print(std_dev)\n",
        ""
      ],
      "metadata": {
        "colab": {
          "base_uri": "https://localhost:8080/"
        },
        "id": "G-VzSCNhsozZ",
        "outputId": "3d77f566-6890-4229-c10c-f2aba9309083"
      },
      "execution_count": 51,
      "outputs": [
        {
          "output_type": "stream",
          "name": "stdout",
          "text": [
            "14233122.645965874\n"
          ]
        }
      ]
    },
    {
      "cell_type": "code",
      "source": [
        "#Finding the cofficant of variance\n",
        "cv=(std_dev/mean)*100\n",
        "print(cv)"
      ],
      "metadata": {
        "colab": {
          "base_uri": "https://localhost:8080/"
        },
        "id": "i8Gdl0kQs59h",
        "outputId": "ddc002b1-15e0-48bf-f03c-37fe3550632b"
      },
      "execution_count": 52,
      "outputs": [
        {
          "output_type": "stream",
          "name": "stdout",
          "text": [
            "135.67517432700396\n"
          ]
        }
      ]
    },
    {
      "cell_type": "code",
      "source": [
        "Q1 = da['Population 2024'].quantile(0.25)\n",
        "Q3 = da['Population 2024'].quantile(0.75)\n",
        "IQR = Q3 - Q1\n",
        "Inter_QRange=Q3-Q1\n",
        "print(Q1)\n",
        "print(Q3)\n",
        "print(Inter_QRange)"
      ],
      "metadata": {
        "colab": {
          "base_uri": "https://localhost:8080/"
        },
        "id": "cwmLORXwtFIC",
        "outputId": "b280f157-1d6f-4d81-9513-62334a093777"
      },
      "execution_count": 53,
      "outputs": [
        {
          "output_type": "stream",
          "name": "stdout",
          "text": [
            "343242.75\n",
            "13957968.25\n",
            "13614725.5\n"
          ]
        }
      ]
    },
    {
      "cell_type": "code",
      "source": [
        "lower_bound= Q1-1.5* Inter_QRange\n",
        "print(lower_bound)\n",
        "upper_bound= Q3+1.5* Inter_QRange\n",
        "print(upper_bound)"
      ],
      "metadata": {
        "colab": {
          "base_uri": "https://localhost:8080/"
        },
        "id": "zw30fvr4tViJ",
        "outputId": "810cc988-6dfe-41b5-8a35-dc3c1e7766dc"
      },
      "execution_count": 54,
      "outputs": [
        {
          "output_type": "stream",
          "name": "stdout",
          "text": [
            "-20078845.5\n",
            "34380056.5\n"
          ]
        }
      ]
    },
    {
      "cell_type": "code",
      "source": [
        "outliers = da[(da['Population 2024'] < lower_bound) | (da['Population 2024'] > upper_bound)]['Population 2024']\n",
        "print(\"These values are outliers:\")\n",
        "print(outliers)\n",
        "print(\"Number of outliers:\", outliers.count())"
      ],
      "metadata": {
        "colab": {
          "base_uri": "https://localhost:8080/"
        },
        "id": "gjai9P0YtgVh",
        "outputId": "3b96ac1b-a27d-4c98-987a-f60c2b638f4b"
      },
      "execution_count": 55,
      "outputs": [
        {
          "output_type": "stream",
          "name": "stdout",
          "text": [
            "These values are outliers:\n",
            "24    58697744\n",
            "25    56203030\n",
            "26    54964694\n",
            "27    52340774\n",
            "28    51741963\n",
            "29    49924252\n",
            "30    49358228\n",
            "31    47473373\n",
            "32    46523657\n",
            "33    46278751\n",
            "34    46057866\n",
            "35    43372950\n",
            "36    40221726\n",
            "37    39107046\n",
            "38    38211459\n",
            "39    37937821\n",
            "40    37804634\n",
            "41    37473929\n",
            "42    35673804\n",
            "43    35219853\n",
            "44    34858402\n",
            "45    34777522\n",
            "46    34683444\n",
            "47    34671895\n",
            "Name: Population 2024, dtype: int64\n",
            "Number of outliers: 24\n"
          ]
        }
      ]
    },
    {
      "cell_type": "code",
      "source": [
        "# Plotting the actual data points and outliers\n",
        "plt.scatter(da['Population 2024'].index, da['Population 2024'] , color='blue', label='Data points' , s=0.5)\n",
        "plt.scatter(outliers.index, outliers, color='red', label='Outliers',s=0.5)\n",
        "\n",
        "plt.title('Outliers in Population 2024')\n",
        "plt.xlabel('World')\n",
        "plt.ylabel('Frequency')\n",
        "plt.legend()\n",
        "plt.show()"
      ],
      "metadata": {
        "colab": {
          "base_uri": "https://localhost:8080/",
          "height": 472
        },
        "id": "jK1GpkVItwBB",
        "outputId": "341ca48a-3792-4e44-c4fd-82e073afd347"
      },
      "execution_count": 56,
      "outputs": [
        {
          "output_type": "display_data",
          "data": {
            "text/plain": [
              "<Figure size 640x480 with 1 Axes>"
            ],
            "image/png": "[encoded data removed]"
          },
          "metadata": {}
        }
      ]
    },
    {
      "cell_type": "code",
      "source": [
        "# Deleting the outliers\n",
        "da = da[(da['Population 2024'] >= lower_bound) & (da['Population 2024'] <= upper_bound)]"
      ],
      "metadata": {
        "id": "hRwfQe8SuJ8Z"
      },
      "execution_count": 57,
      "outputs": []
    },
    {
      "cell_type": "code",
      "source": [
        "# Calculating mean after removing outliers\n",
        "mean_without_outliers = da['Population 2024'].mean()\n",
        "\n",
        "print(\"Mean without outliers:\", mean_without_outliers)"
      ],
      "metadata": {
        "colab": {
          "base_uri": "https://localhost:8080/"
        },
        "id": "rRd_RFzpuXDI",
        "outputId": "a2d0f5f0-663f-4547-8e0f-f965c6727a01"
      },
      "execution_count": 58,
      "outputs": [
        {
          "output_type": "stream",
          "name": "stdout",
          "text": [
            "Mean without outliers: 6233572.698924731\n"
          ]
        }
      ]
    }
  ]
}